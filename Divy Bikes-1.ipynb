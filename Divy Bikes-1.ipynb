{
 "cells": [
  {
   "cell_type": "markdown",
   "id": "77e3a7c9",
   "metadata": {},
   "source": [
    "shift enter to run the command\n",
    "Pandas lib is used for analyzing\n",
    "datetime lib because there is not date data type in python so date is considered as object \n",
    "r means raw string --so that the backslash is taken as backslash and not a special character"
   ]
  },
  {
   "cell_type": "code",
   "execution_count": 35,
   "id": "6ecbd7bd",
   "metadata": {},
   "outputs": [
    {
     "data": {
      "text/html": [
       "<div>\n",
       "<style scoped>\n",
       "    .dataframe tbody tr th:only-of-type {\n",
       "        vertical-align: middle;\n",
       "    }\n",
       "\n",
       "    .dataframe tbody tr th {\n",
       "        vertical-align: top;\n",
       "    }\n",
       "\n",
       "    .dataframe thead th {\n",
       "        text-align: right;\n",
       "    }\n",
       "</style>\n",
       "<table border=\"1\" class=\"dataframe\">\n",
       "  <thead>\n",
       "    <tr style=\"text-align: right;\">\n",
       "      <th></th>\n",
       "      <th>X</th>\n",
       "      <th>Y</th>\n",
       "      <th>Z</th>\n",
       "    </tr>\n",
       "  </thead>\n",
       "  <tbody>\n",
       "    <tr>\n",
       "      <th>A</th>\n",
       "      <td>1</td>\n",
       "      <td>2</td>\n",
       "      <td>3</td>\n",
       "    </tr>\n",
       "    <tr>\n",
       "      <th>B</th>\n",
       "      <td>2</td>\n",
       "      <td>7</td>\n",
       "      <td>3</td>\n",
       "    </tr>\n",
       "  </tbody>\n",
       "</table>\n",
       "</div>"
      ],
      "text/plain": [
       "   X  Y  Z\n",
       "A  1  2  3\n",
       "B  2  7  3"
      ]
     },
     "execution_count": 35,
     "metadata": {},
     "output_type": "execute_result"
    }
   ],
   "source": [
    "df1= pd.DataFrame([[1,2,3],[2,7,3]],index = ['A','B'],columns=['X','Y','Z'])\n",
    "df1"
   ]
  },
  {
   "cell_type": "code",
   "execution_count": 25,
   "id": "8472bd01",
   "metadata": {},
   "outputs": [],
   "source": [
    "import pandas as pd\n",
    "djan = pd.read_csv(r\"D:\\SANA\\Capstone1\\Cyclist Data\\Jan21.csv\")\n",
    "dfeb = pd.read_csv(r\"D:\\SANA\\Capstone1\\Cyclist Data\\Feb21.csv\")\n",
    "dmar = pd.read_csv(r\"D:\\SANA\\Capstone1\\Cyclist Data\\Mar21.csv\")\n",
    "dapr = pd.read_csv(r\"D:\\SANA\\Capstone1\\Cyclist Data\\Apr21.csv\")\n",
    "dmay = pd.read_csv(r\"D:\\SANA\\Capstone1\\Cyclist Data\\May21.csv\")\n",
    "djun = pd.read_csv(r\"D:\\SANA\\Capstone1\\Cyclist Data\\Jun21.csv\")"
   ]
  },
  {
   "cell_type": "code",
   "execution_count": 27,
   "id": "e1eedcbb",
   "metadata": {},
   "outputs": [
    {
     "name": "stdout",
     "output_type": "stream",
     "text": [
      "ride_id\n",
      "rideable_type\n",
      "started_at\n",
      "ended_at\n",
      "member_casual\n",
      "Index(['ride_id', 'rideable_type', 'started_at', 'ended_at', 'member_casual'], dtype='object')\n",
      "Index(['ride_id', 'rideable_type', 'started_at', 'ended_at', 'member_casual'], dtype='object')\n"
     ]
    },
    {
     "data": {
      "text/plain": [
       "['ride_id', 'rideable_type', 'started_at', 'ended_at', 'member_casual']"
      ]
     },
     "execution_count": 27,
     "metadata": {},
     "output_type": "execute_result"
    }
   ],
   "source": [
    "djan.head(5)\n",
    "for col in djan.columns:\n",
    "    print(col)\n",
    "print(djan.columns)\n",
    "print(djan.keys())\n",
    "list(djan.columns.values)"
   ]
  },
  {
   "cell_type": "code",
   "execution_count": 24,
   "id": "7b9669ab",
   "metadata": {},
   "outputs": [
    {
     "name": "stdout",
     "output_type": "stream",
     "text": [
      "Index(['Ride_Id', 'rideable_type', 'started_at', 'ended_at', 'member_casual'], dtype='object')\n"
     ]
    }
   ],
   "source": [
    "djan.rename(columns={'ride_id':'Ride_Id'})\n",
    "print(djan.columns)\n",
    "djan.rename(columns={'Ride_id':'ride_Id'},inplace = True)"
   ]
  },
  {
   "cell_type": "markdown",
   "id": "28ccb4bc",
   "metadata": {},
   "source": [
    "In row 18 -- Various ways to inspect the data and column names\n",
    "In row 24 -- rename function along with inplace keyword- this key word is by default as false and when made true it will return nothing "
   ]
  },
  {
   "cell_type": "code",
   "execution_count": 41,
   "id": "b430f0d3",
   "metadata": {},
   "outputs": [
    {
     "name": "stdout",
     "output_type": "stream",
     "text": [
      "1973410\n",
      "1973410 5\n"
     ]
    }
   ],
   "source": [
    "dframes = [djan,dfeb,dmar,dapr,dmay,djun]\n",
    "djanjun = pd.concat(dframes) #join two or more data frames with same column names \n",
    "#temp = pd.merge(djan,dfeb,,right_on = 'ride_id')\n",
    "dcountr = djanjun.shape[0] #count the rows\n",
    "dcountc = djanjun.shape[1] #count the columns\n",
    "print(len(djanjun.index))# another way to find the count of rows \n",
    "print(dcountr,dcountc)\n",
    "#can be also done through dictionary\n",
    "#temp={'a':djan,'b:dfeb'}\n",
    "#result = pd.concat(temp)"
   ]
  },
  {
   "cell_type": "code",
   "execution_count": null,
   "id": "5011a0d3",
   "metadata": {},
   "outputs": [],
   "source": [
    "#To delete the unwanted Column \n",
    "#djan.drop(col_name,inplace=True,axis = 1)\n",
    "#del djan['colname']\n",
    "#djan.pop('colname')---this will return the popped column"
   ]
  }
 ],
 "metadata": {
  "kernelspec": {
   "display_name": "Python 3 (ipykernel)",
   "language": "python",
   "name": "python3"
  },
  "language_info": {
   "codemirror_mode": {
    "name": "ipython",
    "version": 3
   },
   "file_extension": ".py",
   "mimetype": "text/x-python",
   "name": "python",
   "nbconvert_exporter": "python",
   "pygments_lexer": "ipython3",
   "version": "3.9.12"
  }
 },
 "nbformat": 4,
 "nbformat_minor": 5
}
